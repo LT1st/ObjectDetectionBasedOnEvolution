{
 "cells": [
  {
   "cell_type": "code",
   "execution_count": 1,
   "metadata": {
    "collapsed": true,
    "ExecuteTime": {
     "start_time": "2023-04-20T11:19:07.661348Z",
     "end_time": "2023-04-20T11:19:09.274599Z"
    }
   },
   "outputs": [
    {
     "name": "stderr",
     "output_type": "stream",
     "text": [
      "/opt/anaconda/lib/python3.9/site-packages/torchvision/models/_utils.py:208: UserWarning: The parameter 'pretrained' is deprecated since 0.13 and may be removed in the future, please use 'weights' instead.\n",
      "  warnings.warn(\n",
      "/opt/anaconda/lib/python3.9/site-packages/torchvision/models/_utils.py:223: UserWarning: Arguments other than a weight enum or `None` for 'weights' are deprecated since 0.13 and may be removed in the future. The current behavior is equivalent to passing `weights=ResNet18_Weights.IMAGENET1K_V1`. You can also use `weights=ResNet18_Weights.DEFAULT` to get the most up-to-date weights.\n",
      "  warnings.warn(msg)\n"
     ]
    },
    {
     "data": {
      "text/plain": "<Figure size 640x480 with 1 Axes>",
      "image/png": "[encoded data removed]"
     },
     "metadata": {},
     "output_type": "display_data"
    }
   ],
   "source": [
    "import torch\n",
    "from torchvision import models\n",
    "import numpy as np\n",
    "import matplotlib.pyplot as plt\n",
    "\n",
    "# 定义固定模板的权重参数\n",
    "template_1 = np.array([[0, 1, 0],\n",
    "                       [1, -4, 1],\n",
    "                       [0, 1, 0]])\n",
    "\n",
    "template_2 = np.array([[1, 1, 1],\n",
    "                       [1, -8, 1],\n",
    "                       [1, 1, 1]])\n",
    "\n",
    "template_3 = np.array([[0, -1, 0],\n",
    "                       [-1, 5, -1],\n",
    "                       [0, -1, 0]])\n",
    "\n",
    "template_4 = np.array([[-1, -1, -1],\n",
    "                       [-1, 9, -1],\n",
    "                       [-1, -1, -1]])\n",
    "\n",
    "template_5 = np.array([[1, 0, -1],\n",
    "                       [0, 0, 0],\n",
    "                       [-1, 0, 1]])\n",
    "\n",
    "# 加载ResNet18模型\n",
    "model = models.resnet18(pretrained=True)\n",
    "\n",
    "# 指定要统计的层的索引\n",
    "layer_idx = 1  # 例如，这里选择第一个卷积层\n",
    "\n",
    "# 获取指定层的卷积层\n",
    "conv_layer = model.layer1[layer_idx].conv1\n",
    "\n",
    "# 获取卷积层的权重参数\n",
    "weights = conv_layer.weight.data\n",
    "\n",
    "# 统计卷积核数量\n",
    "num_kernels = weights.size(0)\n",
    "\n",
    "# 定义固定模板的列表\n",
    "templates = [template_1, template_2, template_3, template_4, template_5]\n",
    "\n",
    "# 定义模板匹配的函数\n",
    "def template_match(template, kernel):\n",
    "    # 计算模板和卷积核的匹配度\n",
    "    match = np.sum(template * kernel)\n",
    "    return match\n",
    "\n",
    "# 创建一个列表用于统计每个固定模板的频次\n",
    "template_freq = [0] * len(templates)\n",
    "\n",
    "# 遍历所有的卷积核\n",
    "for i in range(num_kernels):\n",
    "    # 获取当前卷积核的权重参数\n",
    "    kernel = weights[i].numpy()\n",
    "\n",
    "    # 初始化最高匹配度和对应的模板索引\n",
    "    max_match = float('-inf')\n",
    "    max_template_idx = None\n",
    "\n",
    "    # 遍历所有的固定模板\n",
    "    for j in range(len(templates)):\n",
    "        # 计算当前模板和卷积核的匹配度\n",
    "        match = template_match(templates[j], kernel)\n",
    "\n",
    "        # 更新最高匹配度和对应的模板索引\n",
    "        if match > max_match:\n",
    "            max_match = match\n",
    "            max_template_idx = j\n",
    "\n",
    "    # 统计匹配度最高的模板的频次\n",
    "    template_freq[max_template_idx] += 1\n",
    "\n",
    "# 将统计结果绘制成柱状图\n",
    "template_names = [\"Template 1\", \"Template 2\", \"Template 3\", \"Template 4\", \"Template 5\"]\n",
    "plt.bar(template_names, template_freq)\n",
    "plt.xlabel(\"Template\")\n",
    "plt.ylabel(\"Frequency\")\n",
    "plt.title(\"Template Frequency in Convolutional Kernels\")\n",
    "plt.show()\n"
   ]
  },
  {
   "cell_type": "code",
   "execution_count": 2,
   "outputs": [
    {
     "name": "stderr",
     "output_type": "stream",
     "text": [
      "/opt/anaconda/lib/python3.9/site-packages/torchvision/models/_utils.py:208: UserWarning: The parameter 'pretrained' is deprecated since 0.13 and may be removed in the future, please use 'weights' instead.\n",
      "  warnings.warn(\n",
      "/opt/anaconda/lib/python3.9/site-packages/torchvision/models/_utils.py:223: UserWarning: Arguments other than a weight enum or `None` for 'weights' are deprecated since 0.13 and may be removed in the future. The current behavior is equivalent to passing `weights=ResNet18_Weights.IMAGENET1K_V1`. You can also use `weights=ResNet18_Weights.DEFAULT` to get the most up-to-date weights.\n",
      "  warnings.warn(msg)\n"
     ]
    },
    {
     "name": "stdout",
     "output_type": "stream",
     "text": [
      "对于尺寸为 3 的卷积核，模板与已有滤波器的平均相似度为: 1.1052\n"
     ]
    }
   ],
   "source": [
    "import torch\n",
    "from torchvision import models\n",
    "import numpy as np\n",
    "import matplotlib.pyplot as plt\n",
    "\n",
    "# 定义固定模板的权重参数\n",
    "template_1 = np.array([[0, 1, 0],\n",
    "                       [1, -4, 1],\n",
    "                       [0, 1, 0]])\n",
    "\n",
    "template_2 = np.array([[1, 1, 1],\n",
    "                       [1, -8, 1],\n",
    "                       [1, 1, 1]])\n",
    "\n",
    "template_3 = np.array([[0, -1, 0],\n",
    "                       [-1, 5, -1],\n",
    "                       [0, -1, 0]])\n",
    "\n",
    "template_4 = np.array([[-1, -1, -1],\n",
    "                       [-1, 9, -1],\n",
    "                       [-1, -1, -1]])\n",
    "\n",
    "template_5 = np.array([[1, 0, -1],\n",
    "                       [0, 0, 0],\n",
    "                       [-1, 0, 1]])\n",
    "\n",
    "# 加载ResNet18模型\n",
    "model = models.resnet18(pretrained=True)\n",
    "\n",
    "# 指定要统计的层的索引\n",
    "layer_idx = 1  # 例如，这里选择第一个卷积层\n",
    "\n",
    "# 获取指定层的卷积层\n",
    "conv_layer = model.layer1[layer_idx].conv1\n",
    "\n",
    "# 获取卷积层的权重参数\n",
    "weights = conv_layer.weight.data\n",
    "\n",
    "# 统计卷积核数量\n",
    "num_kernels = weights.size(0)\n",
    "\n",
    "# 统计卷积核尺寸分布\n",
    "kernel_sizes = []\n",
    "for i in range(num_kernels):\n",
    "    kernel_size = np.unique(weights[i].cpu().numpy().shape[-2:])\n",
    "    kernel_sizes.extend(kernel_size.tolist())\n",
    "\n",
    "# 定义模板与卷积核尺寸的对应关系\n",
    "template_dict = {3: template_1,\n",
    "                 5: template_2,\n",
    "                 7: template_3,\n",
    "                 9: template_4,\n",
    "                 11: template_5}\n",
    "\n",
    "# 遍历卷积核尺寸，输出模板与卷积核的相似度\n",
    "for size in np.unique(kernel_sizes):\n",
    "    if size in template_dict.keys():\n",
    "        template = template_dict[size]\n",
    "        similarity_scores = []\n",
    "        for i in range(num_kernels):\n",
    "            kernel = weights[i].cpu().numpy()\n",
    "            similarity = np.sum(kernel * template)\n",
    "            similarity_scores.append(similarity)\n",
    "        avg_similarity = np.mean(similarity_scores)\n",
    "        print(f\"对于尺寸为 {size} 的卷积核，模板与已有滤波器的平均相似度为: {avg_similarity:.4f}\")\n",
    "    else:\n",
    "        print(f\"尺寸为 {size} 的卷积核没有定义对应的模板\")\n"
   ],
   "metadata": {
    "collapsed": false,
    "ExecuteTime": {
     "start_time": "2023-04-20T11:21:11.794426Z",
     "end_time": "2023-04-20T11:21:12.133420Z"
    }
   }
  },
  {
   "cell_type": "code",
   "execution_count": 3,
   "outputs": [
    {
     "data": {
      "text/plain": "<Figure size 640x480 with 1 Axes>",
      "image/png": "[encoded data removed]"
     },
     "metadata": {},
     "output_type": "display_data"
    },
    {
     "name": "stdout",
     "output_type": "stream",
     "text": [
      "在第 1 层的卷积层中，共有 64 个卷积核\n",
      "卷积核尺寸分布:\n",
      "Kernel Size 3: 64 个\n"
     ]
    }
   ],
   "source": [
    "import torch\n",
    "from torchvision import models\n",
    "import numpy as np\n",
    "import matplotlib.pyplot as plt\n",
    "\n",
    "# 加载ResNet18模型\n",
    "model = models.resnet18(pretrained=True)\n",
    "\n",
    "# 指定要统计的层的索引\n",
    "layer_idx = 1  # 例如，这里选择第一个卷积层\n",
    "\n",
    "# 获取指定层的卷积层\n",
    "conv_layer = model.layer1[layer_idx].conv1\n",
    "\n",
    "# 获取卷积层的权重参数\n",
    "weights = conv_layer.weight.data\n",
    "\n",
    "# 统计卷积核数量\n",
    "num_kernels = weights.size(0)\n",
    "\n",
    "# 统计卷积核尺寸分布\n",
    "kernel_sizes = []\n",
    "for i in range(num_kernels):\n",
    "    kernel_size = np.unique(weights[i].cpu().numpy().shape[-2:])\n",
    "    kernel_sizes.extend(kernel_size.tolist())\n",
    "\n",
    "# 统计卷积核尺寸的频次\n",
    "kernel_sizes = np.array(kernel_sizes)\n",
    "unique_sizes, counts = np.unique(kernel_sizes, return_counts=True)\n",
    "\n",
    "# 可视化卷积核尺寸分布\n",
    "plt.bar(unique_sizes, counts)\n",
    "plt.xlabel('Kernel Size')\n",
    "plt.ylabel('Frequency')\n",
    "plt.title(f'Kernel Size Distribution of Layer {layer_idx}')\n",
    "plt.show()\n",
    "\n",
    "print(f\"在第 {layer_idx} 层的卷积层中，共有 {num_kernels} 个卷积核\")\n",
    "print(\"卷积核尺寸分布:\")\n",
    "for size, count in zip(unique_sizes, counts):\n",
    "    print(f\"Kernel Size {size}: {count} 个\")\n"
   ],
   "metadata": {
    "collapsed": false,
    "ExecuteTime": {
     "start_time": "2023-04-20T11:22:04.603416Z",
     "end_time": "2023-04-20T11:22:05.177788Z"
    }
   }
  },
  {
   "cell_type": "code",
   "execution_count": null,
   "outputs": [],
   "source": [],
   "metadata": {
    "collapsed": false
   }
  }
 ],
 "metadata": {
  "kernelspec": {
   "display_name": "Python 3",
   "language": "python",
   "name": "python3"
  },
  "language_info": {
   "codemirror_mode": {
    "name": "ipython",
    "version": 2
   },
   "file_extension": ".py",
   "mimetype": "text/x-python",
   "name": "python",
   "nbconvert_exporter": "python",
   "pygments_lexer": "ipython2",
   "version": "2.7.6"
  }
 },
 "nbformat": 4,
 "nbformat_minor": 0
}
